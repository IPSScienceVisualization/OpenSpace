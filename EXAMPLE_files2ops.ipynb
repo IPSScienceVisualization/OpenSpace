{ 
 "cells": [
  {
   "cell_type": "markdown",
   "metadata": {},
   "source": [
    "# Creating Asset and Speck Files From An Astropy Table"
   ]
  },
  {
   "cell_type": "markdown",
   "metadata": {},
   "source": [
    "*This example shows how to run the files2ops module from the data2ops package. This module is designed to read in an astropy table and create the necessary files to visualize that table's data in Open Space.*"
   ]
  },
  {
   "cell_type": "markdown",
   "metadata": {},
   "source": [
    "First, I read in my data and create an astropy Table."
   ]
  },
  {
   "cell_type": "code",
   "execution_count": 1,
   "metadata": {},
   "outputs": [],
   "source": [
    "from astropy.io import fits\n",
    "from astropy.table import Table, Column"
   ]
  },
  {
   "cell_type": "code",
   "execution_count": 2,
   "metadata": {},
   "outputs": [
    {
     "name": "stdout",
     "output_type": "stream",
     "text": [
      "Filename: galaxies_new_archiekinnane.fit\n",
      "No.    Name      Ver    Type      Cards   Dimensions   Format\n",
      "  0  PRIMARY       1 PrimaryHDU       4   ()      \n",
      "  1                1 BinTableHDU     33   665225R x 11C   [1E, 1E, 1E, 1E, 1E, 1E, 1D, 1D, 1J, 1J, 1J]   \n",
      "ColDefs(\n",
      "    name = 'ra'; format = '1E'\n",
      "    name = 'dec'; format = '1E'\n",
      "    name = 'z'; format = '1E'\n",
      "    name = 'r'; format = '1E'\n",
      "    name = 'i'; format = '1E'\n",
      "    name = 'BV'; format = '1E'\n",
      "    name = 'prob_ell'; format = '1D'\n",
      "    name = 'prob_spi'; format = '1D'\n",
      "    name = 'spiral'; format = '1J'; null = -2147483648\n",
      "    name = 'elliptical'; format = '1J'; null = -2147483648\n",
      "    name = 'uncertain'; format = '1J'; null = -2147483648\n",
      ")\n"
     ]
    }
   ],
   "source": [
    "hdu1 = fits.open(\"galaxies_new_archiekinnane.fit\")\n",
    "hdu1.info()\n",
    "print(hdu1[1].columns)"
   ]
  },
  {
   "cell_type": "code",
   "execution_count": 3,
   "metadata": {},
   "outputs": [
    {
     "data": {
      "text/html": [
       "<i>Table length=665225</i>\n",
       "<table id=\"table140506478692728\" class=\"table-striped table-bordered table-condensed\">\n",
       "<thead><tr><th>ra</th><th>dec</th><th>z</th><th>r</th><th>i</th><th>BV</th><th>prob_ell</th><th>prob_spi</th><th>spiral</th><th>elliptical</th><th>uncertain</th></tr></thead>\n",
       "<thead><tr><th>float32</th><th>float32</th><th>float32</th><th>float32</th><th>float32</th><th>float32</th><th>float64</th><th>float64</th><th>int32</th><th>int32</th><th>int32</th></tr></thead>\n",
       "<tr><td>146.85983</td><td>-0.8089167</td><td>0.12655362</td><td>35.343086</td><td>66.24687</td><td>0.0</td><td>0.5329999923706055</td><td>0.27000001072883606</td><td>0</td><td>0</td><td>1</td></tr>\n",
       "<tr><td>146.96391</td><td>-0.5450278</td><td>0.055987872</td><td>19.022448</td><td>29.305738</td><td>0.0</td><td>0.08100000023841858</td><td>0.890999972820282</td><td>0</td><td>0</td><td>1</td></tr>\n",
       "<tr><td>146.72795</td><td>-0.5568611</td><td>0.08933747</td><td>58.950886</td><td>95.62222</td><td>0.0</td><td>0.8690000176429749</td><td>0.03500000014901161</td><td>0</td><td>0</td><td>1</td></tr>\n",
       "<tr><td>146.74413</td><td>-0.6522222</td><td>0.2037688</td><td>34.441887</td><td>58.641396</td><td>0.0</td><td>0.7879999876022339</td><td>0.13699999451637268</td><td>0</td><td>0</td><td>1</td></tr>\n",
       "<tr><td>146.59271</td><td>-0.76025</td><td>0.06502353</td><td>52.444443</td><td>75.21119</td><td>0.0</td><td>0.20200000703334808</td><td>0.6230000257492065</td><td>0</td><td>0</td><td>1</td></tr>\n",
       "<tr><td>146.93413</td><td>-0.67041665</td><td>0.12131637</td><td>76.42564</td><td>120.61376</td><td>0.0</td><td>0.875</td><td>0.050999999046325684</td><td>0</td><td>0</td><td>1</td></tr>\n",
       "<tr><td>146.95</td><td>-0.5922222</td><td>0.064776674</td><td>32.779373</td><td>48.20951</td><td>0.0</td><td>0.164000004529953</td><td>0.7450000047683716</td><td>1</td><td>0</td><td>0</td></tr>\n",
       "<tr><td>146.62859</td><td>-0.76513886</td><td>0.064588785</td><td>72.8277</td><td>114.54557</td><td>0.0</td><td>0.1850000023841858</td><td>0.7940000295639038</td><td>1</td><td>0</td><td>0</td></tr>\n",
       "<tr><td>146.85771</td><td>-0.6628889</td><td>0.08439621</td><td>12.33995</td><td>17.28294</td><td>0.0</td><td>0.08900000154972076</td><td>0.6209999918937683</td><td>0</td><td>0</td><td>1</td></tr>\n",
       "<tr><td>146.9635</td><td>-0.7593333</td><td>0.097041465</td><td>47.65391</td><td>70.60215</td><td>0.0</td><td>0.6129999756813049</td><td>0.20600000023841858</td><td>0</td><td>0</td><td>1</td></tr>\n",
       "<tr><td>...</td><td>...</td><td>...</td><td>...</td><td>...</td><td>...</td><td>...</td><td>...</td><td>...</td><td>...</td><td>...</td></tr>\n",
       "<tr><td>257.38562</td><td>34.516277</td><td>0.07758282</td><td>106.81562</td><td>165.25151</td><td>0.0</td><td>0.5770000219345093</td><td>0.4230000078678131</td><td>0</td><td>0</td><td>1</td></tr>\n",
       "<tr><td>257.20255</td><td>34.29789</td><td>0.09066808</td><td>100.110054</td><td>151.52043</td><td>0.0</td><td>0.7099999785423279</td><td>0.1679999977350235</td><td>0</td><td>0</td><td>1</td></tr>\n",
       "<tr><td>257.15167</td><td>34.455723</td><td>0.081488654</td><td>122.861664</td><td>188.39253</td><td>0.0</td><td>0.7929999828338623</td><td>0.03400000184774399</td><td>0</td><td>0</td><td>1</td></tr>\n",
       "<tr><td>257.28537</td><td>34.417915</td><td>0.08503578</td><td>75.078354</td><td>111.0452</td><td>0.0</td><td>0.7110000252723694</td><td>0.08100000023841858</td><td>0</td><td>0</td><td>1</td></tr>\n",
       "<tr><td>256.5658</td><td>35.417027</td><td>0.0367457</td><td>40.671883</td><td>54.77914</td><td>0.0</td><td>0.32199999690055847</td><td>0.4970000088214874</td><td>0</td><td>0</td><td>1</td></tr>\n",
       "<tr><td>256.75128</td><td>34.88475</td><td>0.08921126</td><td>104.41095</td><td>160.49057</td><td>0.0</td><td>0.7919999957084656</td><td>0.07500000298023224</td><td>0</td><td>0</td><td>1</td></tr>\n",
       "<tr><td>256.77444</td><td>34.95325</td><td>0.107194796</td><td>123.90004</td><td>184.06058</td><td>0.0</td><td>0.6800000071525574</td><td>0.25</td><td>0</td><td>0</td><td>1</td></tr>\n",
       "<tr><td>256.04684</td><td>35.890694</td><td>0.06255718</td><td>85.09206</td><td>126.43576</td><td>0.0</td><td>0.06400000303983688</td><td>0.7549999952316284</td><td>0</td><td>0</td><td>1</td></tr>\n",
       "<tr><td>256.0959</td><td>35.965363</td><td>0.063573435</td><td>142.11563</td><td>209.12317</td><td>0.0</td><td>0.7099999785423279</td><td>0.257999986410141</td><td>0</td><td>0</td><td>1</td></tr>\n",
       "<tr><td>260.12497</td><td>29.922945</td><td>0.12298337</td><td>44.460182</td><td>66.64681</td><td>0.0</td><td>0.004999999888241291</td><td>0.9599999785423279</td><td>1</td><td>0</td><td>0</td></tr>\n",
       "</table>"
      ],
      "text/plain": [
       "<Table length=665225>\n",
       "    ra        dec          z          r      ... spiral elliptical uncertain\n",
       " float32    float32     float32    float32   ... int32    int32      int32  \n",
       "--------- ----------- ----------- ---------- ... ------ ---------- ---------\n",
       "146.85983  -0.8089167  0.12655362  35.343086 ...      0          0         1\n",
       "146.96391  -0.5450278 0.055987872  19.022448 ...      0          0         1\n",
       "146.72795  -0.5568611  0.08933747  58.950886 ...      0          0         1\n",
       "146.74413  -0.6522222   0.2037688  34.441887 ...      0          0         1\n",
       "146.59271    -0.76025  0.06502353  52.444443 ...      0          0         1\n",
       "146.93413 -0.67041665  0.12131637   76.42564 ...      0          0         1\n",
       "   146.95  -0.5922222 0.064776674  32.779373 ...      1          0         0\n",
       "146.62859 -0.76513886 0.064588785    72.8277 ...      1          0         0\n",
       "146.85771  -0.6628889  0.08439621   12.33995 ...      0          0         1\n",
       " 146.9635  -0.7593333 0.097041465   47.65391 ...      0          0         1\n",
       "      ...         ...         ...        ... ...    ...        ...       ...\n",
       "257.38562   34.516277  0.07758282  106.81562 ...      0          0         1\n",
       "257.20255    34.29789  0.09066808 100.110054 ...      0          0         1\n",
       "257.15167   34.455723 0.081488654 122.861664 ...      0          0         1\n",
       "257.28537   34.417915  0.08503578  75.078354 ...      0          0         1\n",
       " 256.5658   35.417027   0.0367457  40.671883 ...      0          0         1\n",
       "256.75128    34.88475  0.08921126  104.41095 ...      0          0         1\n",
       "256.77444    34.95325 0.107194796  123.90004 ...      0          0         1\n",
       "256.04684   35.890694  0.06255718   85.09206 ...      0          0         1\n",
       " 256.0959   35.965363 0.063573435  142.11563 ...      0          0         1\n",
       "260.12497   29.922945  0.12298337  44.460182 ...      1          0         0"
      ]
     },
     "execution_count": 3,
     "metadata": {},
     "output_type": "execute_result"
    }
   ],
   "source": [
    "galaxies = Table(hdu1[1].data)\n",
    "hdu1.close()\n",
    "galaxies"
   ]
  },
  {
   "cell_type": "markdown",
   "metadata": {},
   "source": [
    "We only keep the columns we want in our speck file."
   ]
  },
  {
   "cell_type": "code",
   "execution_count": 4,
   "metadata": {},
   "outputs": [],
   "source": [
    "galaxies.keep_columns(['ra', 'dec', 'z', 'prob_ell', 'prob_spi'])"
   ]
  },
  {
   "cell_type": "markdown",
   "metadata": {},
   "source": [
    "And then import our module."
   ]
  },
  {
   "cell_type": "code",
   "execution_count": 5,
   "metadata": {},
   "outputs": [],
   "source": [
    "from data2ops import files2ops"
   ]
  },
  {
   "cell_type": "markdown",
   "metadata": {},
   "source": [
    "First, I'll run the code only passing the two mandatory arguments."
   ]
  },
  {
   "cell_type": "code",
   "execution_count": 7,
   "metadata": {},
   "outputs": [
    {
     "name": "stdout",
     "output_type": "stream",
     "text": [
      "What is the GUI name of your data? e.g. Sloan Digital Sky Survey Galaxy Zoo\n",
      "What is the GUI path for your data? e.g. /Universe/Galaxies (use forward slashes) /Universe/Galaxies\n",
      "What is the data source? e.g. SDSS DR8 Galaxy Zoo DR10 and SDSS DR8\n"
     ]
    }
   ],
   "source": [
    "files2ops.createFiles(galaxies, 'galaxyzoo')"
   ]
  },
  {
   "cell_type": "markdown",
   "metadata": {},
   "source": [
    "\"galaxyzoo.speck\" and \"galaxyzoo.asset\" are now saved in my current directory. Now, I'll initialize all arguments. First, a reminder on what the arguments are."
   ]
  },
  {
   "cell_type": "code",
   "execution_count": 8,
   "metadata": {},
   "outputs": [
    {
     "name": "stdout",
     "output_type": "stream",
     "text": [
      "createFiles(Table, file_name, GUI_name = 'default', GUI_path = 'default', source = 'default')\n"
     ]
    }
   ],
   "source": [
    "files2ops.printArgs()"
   ]
  },
  {
   "cell_type": "code",
   "execution_count": 9,
   "metadata": {},
   "outputs": [],
   "source": [
    "files2ops.createFiles(galaxies, 'galaxyzoo', GUI_name = 'Galaxy Zoo', \n",
    "                      GUI_path = '/Universe/Galaxies', \n",
    "                      source = 'Galaxy Zoo DR10 and SDSS DR8')"
   ]
  },
  {
   "cell_type": "markdown",
   "metadata": {},
   "source": [
    "This time, the code required no user input. The same files were created and saved in the current directory."
   ]
  }
 ],
 "metadata": {
  "kernelspec": {
   "display_name": "Python 3",
   "language": "python",
   "name": "python3"
  },
  "language_info": {
   "codemirror_mode": {
    "name": "ipython",
    "version": 3
   },
   "file_extension": ".py",
   "mimetype": "text/x-python",
   "name": "python",
   "nbconvert_exporter": "python",
   "pygments_lexer": "ipython3",
   "version": "3.6.6"
  }
 },
 "nbformat": 4,
 "nbformat_minor": 2
}
