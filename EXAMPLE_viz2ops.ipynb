{
 "cells": [
  {
   "cell_type": "code",
   "execution_count": 2,
   "metadata": {},
   "outputs": [],
   "source": [
    "from data2ops import viz2ops as vz"
   ]
  },
  {
   "cell_type": "markdown",
   "metadata": {},
   "source": [
    "First, I'll run the code only passing the two mandatory arguments."
   ]
  },
  {
   "cell_type": "code",
   "execution_count": 3,
   "metadata": {},
   "outputs": [
    {
     "name": "stdout",
     "output_type": "stream",
     "text": [
      "['SDSS', 'RAJ2000', 'DEJ2000', 'Z.B', 'E_Z.B', 'FW_CIV_', 'FW_CIII_', 'FW_MGII_', 'BI_CIVT_', 'AI_CIVT_', 'DI_CIVT_', 'DR9', 'DR7']\n",
      "Besides RA and Dec, what Vizier columns -- listed above -- would you like to retain? Type 1 if you are done. SDSS\n",
      "['RAJ2000', 'DEJ2000', 'SDSS']\n",
      "Besides RA and Dec, what Vizier columns -- listed above -- would you like to retain? Type 1 if you are done. 1\n",
      "['RAJ2000', 'DEJ2000', 'SDSS']\n",
      "Distance column not found. If there is one, input name manually. Else, type 1. 1\n",
      "Redshift column also not found. If it exists, input name manually. Else, type 1 and all data will be placed at distance = 100 Mpc.z.b\n",
      "What is the GUI name of your data? e.g. Sloan Digital Sky Survey Quasars\n",
      "What is the GUI path for your data? e.g. /Universe/Galaxies (use forward slashes) /Universe/Other\n"
     ]
    }
   ],
   "source": [
    "vz.OS_from_viz('VII/269/dr9q', 'quasars')"
   ]
  },
  {
   "cell_type": "markdown",
   "metadata": {},
   "source": [
    "\"quasars.speck\" and \"quasars.asset\" are now saved in my current directory. Now, I'll initialize all arguments. First, a reminder on what the arguments are."
   ]
  },
  {
   "cell_type": "code",
   "execution_count": 4,
   "metadata": {},
   "outputs": [
    {
     "name": "stdout",
     "output_type": "stream",
     "text": [
      "OS_from_viz(viz_ID, file_name, extraCols = ['default'], GUI_name = 'default', GUI_path = 'default', use_redshift = False)\n"
     ]
    }
   ],
   "source": [
    "vz.printArgs()"
   ]
  },
  {
   "cell_type": "code",
   "execution_count": 5,
   "metadata": {},
   "outputs": [
    {
     "name": "stdout",
     "output_type": "stream",
     "text": [
      "Distance column not found. If there is one, input name manually. Else, type 1. 1\n",
      "Redshift column also not found. If it exists, input name manually. Else, type 1 and all data will be placed at distance = 100 Mpc.z.b\n"
     ]
    }
   ],
   "source": [
    "vz.OS_from_viz('VII/269/dr9q', 'quasars2', extraCols = ['SDSS'], GUI_name = 'Quasars', GUI_path = '/Universe/Other', use_redshift = True)"
   ]
  },
  {
   "cell_type": "markdown",
   "metadata": {},
   "source": [
    "If there were a column called 'z' or 'redshift' (case-insensitive) then it would have automatically used it to create a distance column, since use_redshift was set to True. However, it didn't recognize 'Z.B' until I told it that that was a redshift column."
   ]
  }
 ],
 "metadata": {
  "kernelspec": {
   "display_name": "Python 3",
   "language": "python",
   "name": "python3"
  },
  "language_info": {
   "codemirror_mode": {
    "name": "ipython",
    "version": 3
   },
   "file_extension": ".py",
   "mimetype": "text/x-python",
   "name": "python",
   "nbconvert_exporter": "python",
   "pygments_lexer": "ipython3",
   "version": "3.6.6"
  }
 },
 "nbformat": 4,
 "nbformat_minor": 2
}
